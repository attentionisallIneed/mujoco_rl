{
 "cells": [
  {
   "cell_type": "code",
   "execution_count": 1,
   "metadata": {},
   "outputs": [],
   "source": [
    "import time\n",
    "import numpy as np\n",
    "import mujoco, mujoco_viewer\n",
    "import mediapy as media\n",
    "\n",
    "from scipy.optimize import minimize\n",
    "\n",
    "from policy_infer import RealtimeController\n",
    "from utils import quaternion_to_euler_array\n",
    "from configs import env_cfg, cfg"
   ]
  },
  {
   "cell_type": "code",
   "execution_count": 2,
   "metadata": {},
   "outputs": [],
   "source": [
    "def load_model_and_data(model_path):\n",
    "    \"\"\"\n",
    "    加载MuJoCo模型和数据\n",
    "    \"\"\"\n",
    "    model = mujoco.MjModel.from_xml_path(model_path)\n",
    "    data = mujoco.MjData(model)\n",
    "    return model, data\n",
    "\n",
    "model, data = load_model_and_data(cfg.sim_config.mujoco_model_path)\n",
    "viewer = mujoco_viewer.MujocoViewer(model, data)"
   ]
  },
  {
   "cell_type": "code",
   "execution_count": 3,
   "metadata": {},
   "outputs": [
    {
     "name": "stdout",
     "output_type": "stream",
     "text": [
      "[0. 0. 0.] [0.03150297 0.04033012 0.06490997]\n"
     ]
    }
   ],
   "source": [
    "def get_object_properties(model, data, object_name):\n",
    "    \"\"\"\n",
    "    获取物体的位置和尺寸\n",
    "    \"\"\"\n",
    "    body_id = mujoco.mj_name2id(model, mujoco.mjtObj.mjOBJ_BODY, object_name)\n",
    "    if body_id == -1:\n",
    "        raise ValueError(f\"Object '{object_name}' not found in the model.\")\n",
    "    \n",
    "    # 获取物体的位置\n",
    "    pos = data.xpos[body_id].copy()\n",
    "    \n",
    "    # 获取物体的几何体尺寸\n",
    "    # 获取物体所有的geom ID\n",
    "    geom_ids = []\n",
    "    for geom_id in range(model.ngeom):\n",
    "        if model.geom_bodyid[geom_id] == body_id:\n",
    "            geom_ids.append(geom_id)\n",
    "    \n",
    "    if not geom_ids:\n",
    "        raise ValueError(f\"No geom found for object '{object_name}'.\")\n",
    "    \n",
    "    # 假设第一个geom是主要的几何体\n",
    "    size = model.geom_size[geom_ids[0]].copy()\n",
    "    \n",
    "    return pos, size\n",
    "\n",
    "pos, size = get_object_properties(model, data, \"left_wrist_roll_link\")\n",
    "print(pos, size)"
   ]
  },
  {
   "cell_type": "code",
   "execution_count": 4,
   "metadata": {},
   "outputs": [
    {
     "name": "stdout",
     "output_type": "stream",
     "text": [
      "[0.3, 0.1, 1.2] [0.3, -0.1, 1.2]\n"
     ]
    }
   ],
   "source": [
    "def compute_hand_targets(object_pos, object_size, hand_offset=0.05):\n",
    "    \"\"\"\n",
    "    计算左右手的目标位置\n",
    "    \"\"\"\n",
    "    # 假设物体在y轴上分布，左右手分别在物体的左右两侧\n",
    "    left_target = object_pos.copy()\n",
    "    right_target = object_pos.copy()\n",
    "    \n",
    "    left_target[1] += (object_size[1]/2 + hand_offset)\n",
    "    right_target[1] -= (object_size[1]/2 + hand_offset)\n",
    "    \n",
    "    return left_target, right_target\n",
    "\n",
    "left_target, right_target = compute_hand_targets([0.3, 0, 1.2], [0.1, 0.1, 0.1])\n",
    "print(left_target, right_target)"
   ]
  },
  {
   "cell_type": "code",
   "execution_count": 5,
   "metadata": {},
   "outputs": [
    {
     "name": "stdout",
     "output_type": "stream",
     "text": [
      "Left Arm Target Angles: [0.51404269 0.41324803 0.10687139 1.47568289 0.03427999 0.\n",
      " 0.        ]\n",
      "Right Arm Target Angles: [-0.51410687 -0.41346147 -0.10674939 -1.47632274 -0.03458121  0.\n",
      "  0.        ]\n"
     ]
    }
   ],
   "source": [
    "def inverse_kinematics(model, data, target_pos, joint_names, eef_name):\n",
    "    \"\"\"\n",
    "    简单的逆运动学实现，使用优化的方法最小化末端执行器与目标位置的距离\n",
    "    \"\"\"\n",
    "    # 获取臂的关节索引\n",
    "    joint_ids = []\n",
    "    for j in range(model.njnt):\n",
    "        joint_name = mujoco.mj_id2name(model, mujoco.mjtObj.mjOBJ_JOINT, j)\n",
    "        if joint_name and joint_name in joint_names:\n",
    "            joint_ids.append(j)\n",
    "    \n",
    "    if not joint_ids:\n",
    "        raise ValueError(f\"No joints found for arm '{eef_name}'.\")\n",
    "    \n",
    "    # 假设末端执行器的body名称为 \"{arm_name}_link\"\n",
    "    eef_name = f\"{eef_name}_link\"\n",
    "    eef_id = mujoco.mj_name2id(model, mujoco.mjtObj.mjOBJ_BODY, eef_name)\n",
    "    if eef_id == -1:\n",
    "        raise ValueError(f\"End-effector '{eef_name}' not found in the model.\")\n",
    "    \n",
    "    def objective(q):\n",
    "        # 保存当前关节角度\n",
    "        original_qpos = data.qpos.copy()\n",
    "        \n",
    "        # 设置新的关节角度\n",
    "        data.qpos[joint_ids] = q\n",
    "        mujoco.mj_forward(model, data)\n",
    "        \n",
    "        # 获取末端执行器位置\n",
    "        eef_pos = data.xpos[eef_id]\n",
    "        \n",
    "        # 恢复原始关节角度\n",
    "        data.qpos[:] = original_qpos\n",
    "        \n",
    "        # 计算目标与末端执行器的距离平方和\n",
    "        return np.sum((eef_pos - target_pos)**2)\n",
    "    \n",
    "    # 初始猜测为当前关节角度\n",
    "    initial_q = data.qpos[joint_ids].copy()\n",
    "    \n",
    "    # 优化\n",
    "    res = minimize(objective, initial_q, method='BFGS')\n",
    "    \n",
    "    if res.success:\n",
    "        return res.x, joint_ids\n",
    "    else:\n",
    "        raise ValueError(f\"Inverse kinematics for {eef_name} failed.\")\n",
    "\n",
    "left_joint_names = ['left_shoulder_pitch', 'left_shoulder_roll', 'left_shoulder_yaw', 'left_elbow_pitch', 'left_elbow_yaw', 'left_wrist_pitch', 'left_wrist_roll']\n",
    "right_joint_names = ['right_shoulder_pitch', 'right_shoulder_roll', 'right_shoulder_yaw', 'right_elbow_pitch', 'right_elbow_yaw', 'right_wrist_pitch', 'right_wrist_roll']\n",
    "\n",
    "left_target_angles, left_joint_ids = inverse_kinematics(model, data, left_target, left_joint_names, 'left_wrist_roll')\n",
    "right_target_angles, right_joint_ids = inverse_kinematics(model, data, right_target, right_joint_names, 'right_wrist_roll')\n",
    "\n",
    "print(f\"Left Arm Target Angles: {left_target_angles}\")\n",
    "print(f\"Right Arm Target Angles: {right_target_angles}\")"
   ]
  },
  {
   "cell_type": "markdown",
   "metadata": {},
   "source": [
    "### mj_forward 静态计算"
   ]
  },
  {
   "cell_type": "code",
   "execution_count": 6,
   "metadata": {},
   "outputs": [],
   "source": [
    "def smooth_joint_movement_simultaneous(model, data, viewer, left_joint_ids, left_target_angles, \n",
    "                                       right_joint_ids, right_target_angles, steps=100, delay=0.01):\n",
    "    \"\"\"\n",
    "    同时平滑地移动双臂到目标角度\n",
    "    \"\"\"\n",
    "    # 获取当前左右臂的关节角度\n",
    "    current_left_angles = data.qpos[left_joint_ids].copy()\n",
    "    current_right_angles = data.qpos[right_joint_ids].copy()\n",
    "    \n",
    "    # 计算每一步需要增加的角度\n",
    "    delta_left = (left_target_angles - current_left_angles) / steps\n",
    "    delta_right = (right_target_angles - current_right_angles) / steps\n",
    "    \n",
    "    for step in range(steps):\n",
    "        # 更新左臂和右臂的关节角度\n",
    "        data.qpos[left_joint_ids] += delta_left\n",
    "        data.qpos[right_joint_ids] += delta_right\n",
    "        \n",
    "        # 计算前向动力学\n",
    "        mujoco.mj_forward(model, data)\n",
    "        \n",
    "        # 渲染视图\n",
    "        if viewer is not None and viewer.is_alive:\n",
    "            viewer.render()\n",
    "        else:\n",
    "            break\n",
    "        \n",
    "        # 延迟以控制移动速度\n",
    "        time.sleep(delay)\n",
    "    \n",
    "    # 确保最终位置准确\n",
    "    data.qpos[left_joint_ids] = left_target_angles\n",
    "    data.qpos[right_joint_ids] = right_target_angles\n",
    "    mujoco.mj_forward(model, data)\n",
    "    if viewer is not None and viewer.is_alive:\n",
    "        viewer.render()\n",
    "\n",
    "# 示例调用\n",
    "# smooth_joint_movement_simultaneous(\n",
    "#     model, \n",
    "#     data, \n",
    "#     viewer, \n",
    "#     left_joint_ids, \n",
    "#     left_target_angles, \n",
    "#     right_joint_ids, \n",
    "#     right_target_angles,\n",
    "#     steps=100,\n",
    "#     delay=0.01\n",
    "# )\n"
   ]
  },
  {
   "cell_type": "markdown",
   "metadata": {},
   "source": [
    "### mj_step 动态仿真"
   ]
  },
  {
   "cell_type": "code",
   "execution_count": 7,
   "metadata": {},
   "outputs": [
    {
     "name": "stdout",
     "output_type": "stream",
     "text": [
      "Actuator ID for joint left_shoulder_pitch: 0\n",
      "Actuator ID for joint left_shoulder_roll: 1\n",
      "Actuator ID for joint left_shoulder_yaw: 2\n",
      "Actuator ID for joint left_elbow_pitch: 3\n",
      "Actuator ID for joint left_elbow_yaw: 4\n",
      "Actuator ID for joint left_wrist_pitch: 5\n",
      "Actuator ID for joint left_wrist_roll: 6\n",
      "Actuator ID for joint right_shoulder_pitch: 7\n",
      "Actuator ID for joint right_shoulder_roll: 8\n",
      "Actuator ID for joint right_shoulder_yaw: 9\n",
      "Actuator ID for joint right_elbow_pitch: 10\n",
      "Actuator ID for joint right_elbow_yaw: 11\n",
      "Actuator ID for joint right_wrist_pitch: 12\n",
      "Actuator ID for joint right_wrist_roll: 13\n"
     ]
    }
   ],
   "source": [
    "def get_actuator_ids(model, joint_names):\n",
    "    \"\"\"\n",
    "    根据关节名称获取对应的执行器ID。\n",
    "    假设每个关节有一个对应的执行器，且执行器名称与关节名称匹配。\n",
    "    \"\"\"\n",
    "    actuator_ids = []\n",
    "    for name in joint_names:\n",
    "        actuator_id = mujoco.mj_name2id(model, mujoco.mjtObj.mjOBJ_ACTUATOR, f\"motor_{name}\")\n",
    "        actuator_ids.append(actuator_id)\n",
    "        print(f\"Actuator ID for joint {name}: {actuator_id}\")\n",
    "    return actuator_ids\n",
    "\n",
    "# 获取对应的执行器ID\n",
    "left_actuator_ids = get_actuator_ids(model, left_joint_names)\n",
    "right_actuator_ids = get_actuator_ids(model, right_joint_names)\n",
    "actuator_ids = left_actuator_ids + right_actuator_ids"
   ]
  },
  {
   "cell_type": "code",
   "execution_count": 8,
   "metadata": {},
   "outputs": [],
   "source": [
    "def pd_control(data, actuator_ids, target_angles, Kp, Kd):\n",
    "    \"\"\"\n",
    "    计算并应用 PD 控制扭矩。\n",
    "\n",
    "    参数：\n",
    "    - data: MuJoCo 数据对象\n",
    "    - actuator_ids: 执行器ID列表\n",
    "    - target_angles: 目标角度数组\n",
    "    - Kp: 比例增益数组\n",
    "    - Kd: 微分增益数组\n",
    "    \"\"\"\n",
    "    # 获取当前关节角度和速度\n",
    "    current_angles = np.array([data.qpos[mujoco.mj_name2id(model, mujoco.mjtObj.mjOBJ_JOINT, joint)] for joint in left_joint_names + right_joint_names])\n",
    "    current_velocities = np.array([data.qvel[mujoco.mj_name2id(model, mujoco.mjtObj.mjOBJ_JOINT, joint)] for joint in left_joint_names + right_joint_names])\n",
    "\n",
    "    # 计算误差\n",
    "    pos_error = target_angles - current_angles\n",
    "    vel_error = -current_velocities\n",
    "\n",
    "    # 计算扭矩\n",
    "    torques = Kp * pos_error + Kd * vel_error\n",
    "\n",
    "    # 应用扭矩到对应的执行器\n",
    "    data.ctrl[actuator_ids] = torques"
   ]
  },
  {
   "cell_type": "code",
   "execution_count": 9,
   "metadata": {},
   "outputs": [],
   "source": [
    "def smooth_joint_movement_pd(model, data, viewer, actuator_ids, target_angles, Kp, Kd, steps=100, delay=0.01):\n",
    "    \"\"\"\n",
    "    使用 PD 控制器平滑地同时移动双臂到目标角度。\n",
    "\n",
    "    参数：\n",
    "    - model: MuJoCo 模型\n",
    "    - data: MuJoCo 数据\n",
    "    - viewer: 渲染视图对象\n",
    "    - actuator_ids: 执行器ID列表\n",
    "    - target_angles: 目标角度数组\n",
    "    - Kp: 比例增益数组\n",
    "    - Kd: 微分增益数组\n",
    "    - steps: 总步数\n",
    "    - delay: 每步的延迟时间（秒）\n",
    "    \"\"\"\n",
    "    # 线性插值目标角度\n",
    "    start_angles = np.array([data.qpos[mujoco.mj_name2id(model, mujoco.mjtObj.mjOBJ_JOINT, joint)] for joint in left_joint_names + right_joint_names])\n",
    "    delta = (target_angles - start_angles) / steps\n",
    "\n",
    "    for step in range(steps):\n",
    "        # 计算当前目标角度\n",
    "        current_target = start_angles + delta * (step + 1)\n",
    "\n",
    "        # 应用 PD 控制\n",
    "        pd_control(data, actuator_ids, current_target, Kp, Kd)\n",
    "\n",
    "        # 步进仿真\n",
    "        mujoco.mj_step(model, data)\n",
    "\n",
    "        # 渲染\n",
    "        if viewer is not None and viewer.is_alive:\n",
    "            viewer.render()\n",
    "        else:\n",
    "            break\n",
    "\n",
    "        # 延迟\n",
    "        time.sleep(delay)\n",
    "\n",
    "    # 确保最终位置准确\n",
    "    pd_control(data, actuator_ids, target_angles, Kp, Kd)\n",
    "    mujoco.mj_step(model, data)\n",
    "    if viewer is not None and viewer.is_alive:\n",
    "        viewer.render()"
   ]
  },
  {
   "cell_type": "code",
   "execution_count": 10,
   "metadata": {},
   "outputs": [],
   "source": [
    "# 设置 PD 增益\n",
    "Kp = np.array([200, 150, 150, 120, 100, 80, 80, 200, 150, 150, 120, 100, 80, 80])\n",
    "Kd = np.array([10, 8, 8, 6, 5, 4, 4, 10, 8, 8, 6, 5, 4, 4])\n",
    "\n",
    "# 定义目标角度（弧度）\n",
    "target_angles = np.concatenate([left_target_angles, right_target_angles])\n",
    "\n",
    "# 调用平滑移动函数\n",
    "smooth_joint_movement_pd(\n",
    "    model,\n",
    "    data,\n",
    "    viewer,\n",
    "    actuator_ids,\n",
    "    target_angles,\n",
    "    Kp,\n",
    "    Kd,\n",
    "    steps=200,\n",
    "    delay=0.01\n",
    ")"
   ]
  },
  {
   "cell_type": "markdown",
   "metadata": {},
   "source": [
    "### 持续应用 PD 控制以维持目标姿态"
   ]
  },
  {
   "cell_type": "code",
   "execution_count": null,
   "metadata": {},
   "outputs": [],
   "source": [
    "while viewer.is_alive:\n",
    "    # 应用 PD 控制以维持目标姿态\n",
    "    pd_control(data, actuator_ids, target_angles, Kp, Kd)\n",
    "\n",
    "    # 步进仿真\n",
    "    mujoco.mj_step(model, data)\n",
    "\n",
    "    # 渲染\n",
    "    viewer.render()\n",
    "\n",
    "    # 可选延迟，根据需要调整\n",
    "    time.sleep(0.01)"
   ]
  }
 ],
 "metadata": {
  "kernelspec": {
   "display_name": "gym",
   "language": "python",
   "name": "python3"
  },
  "language_info": {
   "codemirror_mode": {
    "name": "ipython",
    "version": 3
   },
   "file_extension": ".py",
   "mimetype": "text/x-python",
   "name": "python",
   "nbconvert_exporter": "python",
   "pygments_lexer": "ipython3",
   "version": "3.10.16"
  }
 },
 "nbformat": 4,
 "nbformat_minor": 2
}
